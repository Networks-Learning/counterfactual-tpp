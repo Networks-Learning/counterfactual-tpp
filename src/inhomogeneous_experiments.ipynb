{
 "cells": [
  {
   "cell_type": "markdown",
   "id": "d5facc25",
   "metadata": {},
   "source": [
    "Dependencies"
   ]
  },
  {
   "cell_type": "code",
   "execution_count": 1,
   "id": "75aac03a",
   "metadata": {},
   "outputs": [],
   "source": [
    "import numpy as np\n",
    "import pandas as pd\n",
    "import seaborn as sns\n",
    "import scipy\n",
    "import matplotlib.pyplot as plt\n",
    "import os\n",
    "import sys\n",
    "from counterfactual_tpp import sample_counterfactual, superposition, combine, check_monotonicity, distance\n",
    "from sampling_utils import homogenous_poisson, thinning, thinning_T\n",
    "from multiprocessing import cpu_count, Pool\n",
    "from tqdm import tqdm\n",
    "import utils"
   ]
  },
  {
   "cell_type": "code",
   "execution_count": 2,
   "id": "f7730e50",
   "metadata": {},
   "outputs": [
    {
     "data": {
      "text/plain": [
       "48"
      ]
     },
     "execution_count": 2,
     "metadata": {},
     "output_type": "execute_result"
    }
   ],
   "source": [
    "cpu_count()"
   ]
  },
  {
   "cell_type": "code",
   "execution_count": 3,
   "id": "c442648a",
   "metadata": {},
   "outputs": [
    {
     "name": "stdout",
     "output_type": "stream",
     "text": [
      "means [0.55 1.8  2.6  3.4  4.2 ]\n",
      "sds [0.27440675 0.35759468 0.30138169 0.27244159 0.2118274 ]\n",
      "amps [22.91788226 18.75174423 27.83546002 29.27325521 17.66883038]\n"
     ]
    }
   ],
   "source": [
    "def normal(x, mean, sd, amp):  \n",
    "    return amp * (1/(sd * (np.sqrt(2*np.pi)))) * np.exp(-0.5*((x-mean)/sd)**2)\n",
    "\n",
    "# Setting the parameters of the original intensity\n",
    "T = 5\n",
    "number_of_gaussians = 5\n",
    "np.random.seed(0)\n",
    "means = np.arange(1, T , step = (T - 1) / number_of_gaussians)\n",
    "means[0] = 0.55\n",
    "sds = np.random.uniform(low=0, high=0.5, size=number_of_gaussians)\n",
    "amps = 10 * np.random.uniform(low=1.0, high=3.0, size=number_of_gaussians)\n",
    "print('means', means)\n",
    "print('sds', sds)\n",
    "print('amps', amps)\n",
    "#**********************\n",
    "def original(x):\n",
    "    res = 0\n",
    "    for i in range(number_of_gaussians):\n",
    "        res += normal(x, means[i], sds[i], amps[i])\n",
    "    return res"
   ]
  },
  {
   "cell_type": "code",
   "execution_count": 4,
   "id": "0c92dbb3",
   "metadata": {},
   "outputs": [
    {
     "data": {
      "text/plain": [
       "<AxesSubplot:xlabel='time', ylabel='intensity'>"
      ]
     },
     "execution_count": 4,
     "metadata": {},
     "output_type": "execute_result"
    },
    {
     "data": {
      "image/png": "[encoded data removed]",
      "text/plain": [
       "<Figure size 432x288 with 1 Axes>"
      ]
     },
     "metadata": {
      "needs_background": "light"
     },
     "output_type": "display_data"
    }
   ],
   "source": [
    "# plotting the original intensity\n",
    "x = np.linspace(0, T, 10000)\n",
    "sns.lineplot(data = pd.DataFrame({'time':x, 'intensity':original(x)}), x=\"time\", y=\"intensity\")"
   ]
  },
  {
   "cell_type": "code",
   "execution_count": 16,
   "id": "cba60480",
   "metadata": {},
   "outputs": [
    {
     "name": "stdout",
     "output_type": "stream",
     "text": [
      "index 4\n",
      "previous amp 17.668830376515555\n",
      "new amp [9.84107533]\n"
     ]
    }
   ],
   "source": [
    "# intervention intensity\n",
    "#******************* To replicate figure 5:\n",
    "# run this cell 1 time for lambda'>lambda\n",
    "# run this cell 12 times for lambda'<lambda \n",
    "modified_index = np.random.choice(a = np.arange(number_of_gaussians), size = 1)[0]\n",
    "print('index', modified_index)\n",
    "new_amp = amps[modified_index] + np.random.normal(loc=0.0, scale=10, size=1)\n",
    "print('previous amp', amps[modified_index])\n",
    "print('new amp', new_amp)\n",
    "new_amps = np.zeros(amps.shape)\n",
    "for i in range(len(new_amps)):\n",
    "    if i == modified_index:\n",
    "        new_amps[i] = new_amp[0]\n",
    "    else:\n",
    "        new_amps[i] = amps[i]\n",
    "                    \n",
    "def intervention(x):\n",
    "    res = 0\n",
    "    for i in range(number_of_gaussians):\n",
    "        res += normal(x, means[i], sds[i], new_amps[i])\n",
    "    return res"
   ]
  },
  {
   "cell_type": "markdown",
   "id": "c92b50a4",
   "metadata": {},
   "source": [
    "Run this if lambda'< lambda"
   ]
  },
  {
   "cell_type": "code",
   "execution_count": 30,
   "id": "4567e10c",
   "metadata": {},
   "outputs": [],
   "source": [
    "window_radious = (means[modified_index] - means[modified_index - 1]) / 2\n",
    "window_center = means[modified_index]"
   ]
  },
  {
   "cell_type": "markdown",
   "id": "ce0b022d",
   "metadata": {},
   "source": [
    "Run this if lambda'>lambda"
   ]
  },
  {
   "cell_type": "code",
   "execution_count": 31,
   "id": "21e7989c",
   "metadata": {},
   "outputs": [],
   "source": [
    "# window_radious = (means[modified_index + 1] - means[modified_index]) / 2\n",
    "# window_center = means[modified_index]"
   ]
  },
  {
   "cell_type": "code",
   "execution_count": 39,
   "id": "81ff4978",
   "metadata": {},
   "outputs": [
    {
     "name": "stdout",
     "output_type": "stream",
     "text": [
      "beginning of the interval:  3.8000000000000003\n",
      "ending of the interval:  4.6\n",
      "window center 4.2\n"
     ]
    }
   ],
   "source": [
    "# specifying interventional intervall.\n",
    "begin = window_center - window_radious\n",
    "end = window_center + window_radious\n",
    "if begin < 0:\n",
    "    t = 0 - begin\n",
    "    begin = 0\n",
    "    end = end - t\n",
    "print('beginning of the interval: ', begin)\n",
    "print('ending of the interval: ', end)\n",
    "print('window center', window_center)"
   ]
  },
  {
   "cell_type": "code",
   "execution_count": 18,
   "id": "9cfd3b09",
   "metadata": {},
   "outputs": [],
   "source": [
    "path = 'figs/new_figs/'"
   ]
  },
  {
   "cell_type": "code",
   "execution_count": 19,
   "id": "5d663981",
   "metadata": {},
   "outputs": [
    {
     "data": {
      "text/plain": [
       "<matplotlib.legend.Legend at 0x7f3754629040>"
      ]
     },
     "execution_count": 19,
     "metadata": {},
     "output_type": "execute_result"
    },
    {
     "data": {
      "image/png": "[encoded data removed]",
      "text/plain": [
       "<Figure size 432x288 with 1 Axes>"
      ]
     },
     "metadata": {
      "needs_background": "light"
     },
     "output_type": "display_data"
    }
   ],
   "source": [
    "# Visualizing both intensities\n",
    "sns.lineplot(data = pd.DataFrame({'time':x, 'intensity':original(x)}), x=\"time\", y=\"intensity\", label = 'Original')\n",
    "sns.lineplot(data = pd.DataFrame({'time':x, 'intensity':intervention(x)}), x=\"time\", y=\"intensity\", label = 'Intervention')\n",
    "plt.legend()"
   ]
  },
  {
   "cell_type": "code",
   "execution_count": 20,
   "id": "131ff908",
   "metadata": {},
   "outputs": [],
   "source": [
    "lambda_max = 100"
   ]
  },
  {
   "cell_type": "code",
   "execution_count": 21,
   "id": "504068b7",
   "metadata": {},
   "outputs": [],
   "source": [
    "def counterfactual(_):\n",
    "    sample, indicators = thinning_T(0, intensity=original, lambda_max=lambda_max, T=T)\n",
    "    lambdas = original(np.asarray(sample))\n",
    "    sample = np.asarray(sample)\n",
    "    counters = []\n",
    "    for counter in range(100):\n",
    "        counterfactuals, counterfactual_indicators = sample_counterfactual(sample, lambdas, lambda_max, indicators, intervention)\n",
    "        counters.append(counterfactuals)\n",
    "    return sample[indicators], counters"
   ]
  },
  {
   "cell_type": "code",
   "execution_count": 22,
   "id": "8d5f89cd",
   "metadata": {},
   "outputs": [],
   "source": [
    "def counterfactual1(_):\n",
    "    sample, indicators = thinning_T(0, intensity=original, lambda_max=lambda_max, T=T)\n",
    "    lambdas = original(np.asarray(sample))\n",
    "    sample = np.asarray(sample)\n",
    "    counters = []\n",
    "    for counter in range(100):\n",
    "        counterfactuals, counterfactual_indicators = sample_counterfactual(sample, lambdas, lambda_max, indicators, intervention)\n",
    "        if check_monotonicity(sample, counterfactuals, original, intervention, sample[indicators]) != 'MONOTONIC':\n",
    "            print('Not monotonic')\n",
    "        counters.append(counterfactuals)\n",
    "    return sample[indicators], counters, sample, indicators"
   ]
  },
  {
   "cell_type": "code",
   "execution_count": 23,
   "id": "cc5d6bea",
   "metadata": {},
   "outputs": [],
   "source": [
    "def counterfactual2(_):\n",
    "    sample = samples_load[_]\n",
    "    indicators = indicators_load[_]\n",
    "    h_observed = sample[indicators]\n",
    "    lambda_observed = [original(i) for i in h_observed]\n",
    "    lambda_bar = lambda x: lambda_max - original(x)\n",
    "    h_rejected, _ = thinning_T(0, intensity=lambda_bar, lambda_max=lambda_max,T=T)\n",
    "    sample, _, indicators = combine(h_observed, lambda_observed, h_rejected, original)\n",
    "    lambdas = original(sample)\n",
    "    counters = []\n",
    "    for counter in range(100):\n",
    "        counterfactuals, counterfactual_indicators = sample_counterfactual(sample, lambdas, lambda_max, indicators, intervention)\n",
    "        if check_monotonicity(sample, counterfactuals, original, intervention, sample[indicators]) != 'MONOTONIC':\n",
    "            print('Not monotonic')\n",
    "        counters.append(counterfactuals)\n",
    "    return sample[indicators], counters"
   ]
  },
  {
   "cell_type": "markdown",
   "id": "5fd6aa53",
   "metadata": {},
   "source": [
    "Run the following 3 cells in order to generate youe new samples, othewise skip the cell and continue to load our generated data and replicate the paper results."
   ]
  },
  {
   "cell_type": "code",
   "execution_count": 15,
   "id": "a3f7942d",
   "metadata": {},
   "outputs": [],
   "source": [
    "# with Pool(48) as pool:\n",
    "#     result = list(tqdm(pool.imap(counterfactual1, list(range(1000))), total = 1000))"
   ]
  },
  {
   "cell_type": "code",
   "execution_count": null,
   "id": "8a6b2773",
   "metadata": {},
   "outputs": [],
   "source": [
    "# # Save\n",
    "# all_samples_save = [result[i][2] for i in range(1000)]\n",
    "# import json\n",
    "# np.save('Data/allsamples.npy', all_samples_save, allow_pickle=True)"
   ]
  },
  {
   "cell_type": "code",
   "execution_count": 15,
   "id": "2d2a4534",
   "metadata": {},
   "outputs": [],
   "source": [
    "# all_indicators_save = [result[i][3] for i in range(1000)]\n",
    "# with open('Data/allindicators.json', 'w') as fout:\n",
    "#     json.dump(all_indicators_save , fout)"
   ]
  },
  {
   "cell_type": "markdown",
   "id": "ca849159",
   "metadata": {},
   "source": [
    "The following cells will read our ramdomly generated data in order to replecate the paper results."
   ]
  },
  {
   "cell_type": "code",
   "execution_count": 24,
   "id": "b9b8e19a",
   "metadata": {},
   "outputs": [],
   "source": [
    "samples_load = np.load('data_inhomogeneous/allsamples.npy', allow_pickle=True)"
   ]
  },
  {
   "cell_type": "code",
   "execution_count": 25,
   "id": "d986286a",
   "metadata": {},
   "outputs": [],
   "source": [
    "import json\n",
    "with open(r'data_inhomogeneous/allindicators.json', \"r\") as read_file:\n",
    "    indicators_load = json.load(read_file)"
   ]
  },
  {
   "cell_type": "code",
   "execution_count": 26,
   "id": "3b91d3cd",
   "metadata": {},
   "outputs": [],
   "source": [
    "f = [samples_load[i][indicators_load[i]] for i in range(1000)]"
   ]
  },
  {
   "cell_type": "code",
   "execution_count": 27,
   "id": "16415662",
   "metadata": {},
   "outputs": [
    {
     "name": "stderr",
     "output_type": "stream",
     "text": [
      "100%|███████████████████████████████████████████████████████████████████████████████| 1000/1000 [34:16<00:00,  2.06s/it]\n"
     ]
    }
   ],
   "source": [
    "with Pool(48) as pool:\n",
    "    result = list(tqdm(pool.imap(counterfactual2, list(range(1000))), total = 1000))"
   ]
  },
  {
   "cell_type": "code",
   "execution_count": 40,
   "id": "501e07d1",
   "metadata": {},
   "outputs": [],
   "source": [
    "def count_interval(start, end, samples):\n",
    "    return len(samples[(start <= samples) & (samples < end)])\n",
    "\n",
    "def filter_interval(start, end, samples):\n",
    "    return samples[(start <= samples) & (samples < end)]\n",
    "\n",
    "    \n",
    "def distance(accepted, counterfactuals, T):\n",
    "    # Calculates the distance between oserved and counterfactual realizaitons\n",
    "    k1 = len(accepted)\n",
    "    k2 = len(counterfactuals)\n",
    "    if k1 <= k2:\n",
    "        d = np.sum(np.abs(accepted[0:k1] - counterfactuals[0:k1]))\n",
    "        if k2 - k1 > 0:\n",
    "            d += np.sum(np.abs(T - counterfactuals[k1:]))\n",
    "    else:\n",
    "        d = np.sum(np.abs(accepted[0:k2] - counterfactuals[0:k2]))\n",
    "        if k1 - k2 > 0:\n",
    "            d += np.sum(np.abs(T - accepted[k2:]))\n",
    "    return d\n",
    "\n",
    "def count_bins(start, end, delta, samples):\n",
    "    intervals = np.arange(start, end, delta)\n",
    "    bins = np.zeros(len(intervals) - 1)\n",
    "    for i in range(len(bins)):\n",
    "        bins[i] = count_interval(intervals[i], intervals[i + 1], samples)\n",
    "    return bins, intervals"
   ]
  },
  {
   "cell_type": "code",
   "execution_count": 41,
   "id": "f4976e8d",
   "metadata": {},
   "outputs": [
    {
     "data": {
      "text/plain": [
       "1000"
      ]
     },
     "execution_count": 41,
     "metadata": {},
     "output_type": "execute_result"
    }
   ],
   "source": [
    "number_of_events = [count_interval(window_center - window_radious, window_center + window_radious, f[i]) for i in range(len(f))]\n",
    "len(number_of_events)"
   ]
  },
  {
   "cell_type": "code",
   "execution_count": 42,
   "id": "31b4e5bb",
   "metadata": {},
   "outputs": [],
   "source": [
    "number_of_groups = 3\n",
    "quantile_indices = pd.qcut(number_of_events, number_of_groups, labels = range(number_of_groups)).to_numpy()"
   ]
  },
  {
   "cell_type": "code",
   "execution_count": 43,
   "id": "970860bf",
   "metadata": {},
   "outputs": [
    {
     "data": {
      "text/plain": [
       "[0, 0, 0, 0, 0, ..., 1, 1, 1, 2, 1]\n",
       "Length: 1000\n",
       "Categories (3, int64): [0 < 1 < 2]"
      ]
     },
     "execution_count": 43,
     "metadata": {},
     "output_type": "execute_result"
    }
   ],
   "source": [
    "pd.qcut(number_of_events, number_of_groups, labels = range(number_of_groups))"
   ]
  },
  {
   "cell_type": "code",
   "execution_count": 44,
   "id": "4e2b0589",
   "metadata": {},
   "outputs": [
    {
     "data": {
      "text/plain": [
       "([0, 0, 0, 0, 0, ..., 1, 1, 1, 2, 1]\n",
       " Length: 1000\n",
       " Categories (3, int64): [0 < 1 < 2],\n",
       " array([11., 16., 23., 29.]))"
      ]
     },
     "execution_count": 44,
     "metadata": {},
     "output_type": "execute_result"
    }
   ],
   "source": [
    "pd.qcut(number_of_events, number_of_groups, labels = range(number_of_groups), retbins=True)"
   ]
  },
  {
   "cell_type": "markdown",
   "id": "a690b69e",
   "metadata": {},
   "source": [
    "The following includes the pre-processings needed for binning and plotting."
   ]
  },
  {
   "cell_type": "code",
   "execution_count": 45,
   "id": "5b922cf9",
   "metadata": {},
   "outputs": [
    {
     "name": "stdout",
     "output_type": "stream",
     "text": [
      "3.36\n",
      "4.22\n",
      "2.42\n"
     ]
    }
   ],
   "source": [
    "groups = [[] for i in range(number_of_groups)]\n",
    "groups_general = [[] for i in range(number_of_groups)]\n",
    "for i in range(1000):\n",
    "    k = quantile_indices[i]\n",
    "    groups[k].extend(result[i][1])\n",
    "    groups_general[k].append(f[i])\n",
    "    \n",
    "for i in range(number_of_groups):\n",
    "    print(len(groups_general[i]) / 100)"
   ]
  },
  {
   "cell_type": "code",
   "execution_count": 46,
   "id": "279319b9",
   "metadata": {},
   "outputs": [],
   "source": [
    "delta = 0.09 # 0.1 for lambda'>lambda\n",
    "number_of_bins = len(np.arange(begin, end, delta)) - 1\n",
    "bin_numbers = []\n",
    "for i in range(number_of_groups):\n",
    "    bin_number = np.zeros(number_of_bins)\n",
    "    \n",
    "    for counter in groups[i]:\n",
    "        num , _ = count_bins(begin, end, delta, np.array(counter))\n",
    "        \n",
    "        bin_number += num\n",
    "         \n",
    "    bin_number = bin_number / len(groups[i]) \n",
    "    bin_numbers.append(bin_number)"
   ]
  },
  {
   "cell_type": "code",
   "execution_count": 47,
   "id": "33054456",
   "metadata": {},
   "outputs": [],
   "source": [
    "delta = 0.09\n",
    "number_of_bins = len(np.arange(begin, end, delta)) - 1\n",
    "original_bin_numbers = []\n",
    "for i in range(number_of_groups):\n",
    "    bin_number = np.zeros(number_of_bins)\n",
    "    \n",
    "    for ori in groups_general[i]:\n",
    "        num , _ = count_bins(begin, end, delta, np.array(ori))\n",
    "        \n",
    "        bin_number += num\n",
    "         \n",
    "    bin_number = bin_number / len(groups_general[i]) \n",
    "#     bin_number = bin_number / delta \n",
    "    original_bin_numbers.append(bin_number)"
   ]
  },
  {
   "cell_type": "code",
   "execution_count": 48,
   "id": "d127ec1f",
   "metadata": {},
   "outputs": [],
   "source": [
    "width_pt = 397\n",
    "fig_height, fig_aspect = utils.get_fig_dim(width_pt, fraction=0.65)"
   ]
  },
  {
   "cell_type": "code",
   "execution_count": 49,
   "id": "c381afb7",
   "metadata": {},
   "outputs": [],
   "source": [
    "plt.style.use(['science','no-latex'])\n",
    "plt.rcParams[\"axes.spines.right\"] = False\n",
    "plt.rcParams[\"axes.spines.top\"] = False\n",
    "plt.rcParams[\"xtick.top\"] = False\n",
    "plt.rcParams[\"ytick.right\"] = False"
   ]
  },
  {
   "cell_type": "code",
   "execution_count": 50,
   "id": "d6633bd6",
   "metadata": {},
   "outputs": [
    {
     "data": {
      "text/plain": [
       "[<matplotlib.axis.YTick at 0x7f36e66c9670>,\n",
       " <matplotlib.axis.YTick at 0x7f36e67136a0>,\n",
       " <matplotlib.axis.YTick at 0x7f36e67133d0>,\n",
       " <matplotlib.axis.YTick at 0x7f36e6648d60>,\n",
       " <matplotlib.axis.YTick at 0x7f36e66bdee0>,\n",
       " <matplotlib.axis.YTick at 0x7f36e664dc40>]"
      ]
     },
     "execution_count": 50,
     "metadata": {},
     "output_type": "execute_result"
    },
    {
     "data": {
      "image/png": "[encoded data removed]",
      "text/plain": [
       "<Figure size 257.086x158.888 with 1 Axes>"
      ]
     },
     "metadata": {
      "needs_background": "light"
     },
     "output_type": "display_data"
    }
   ],
   "source": [
    "fig, ax = plt.subplots(figsize=(fig_height*fig_aspect,fig_height))\n",
    "ax.plot(x, original(x), label = 'original')\n",
    "ax.plot(x, intervention(x), label = 'intervention')\n",
    "ax.set_xlabel('time', fontsize = 10)\n",
    "ax.set_ylabel('intensity', fontsize = 10)\n",
    "ax.axvline(x=begin, color = 'k', ls = '--', alpha = 0.5)\n",
    "ax.axvline(x=end, color = 'k', ls = '--', alpha = 0.5)\n",
    "ax.legend(loc='lower right', fontsize = 10)\n",
    "ax.set_xticks(np.arange(0,T +1,1))\n",
    "ax.set_yticks(np.arange(0,60,10))\n",
    "# plt.savefig('{}/intensities1.pdf'.format(path), format = 'pdf', dpi = 900)"
   ]
  },
  {
   "cell_type": "code",
   "execution_count": 51,
   "id": "aefb92af",
   "metadata": {},
   "outputs": [
    {
     "data": {
      "text/plain": [
       "[<matplotlib.axis.XTick at 0x7f36e67305e0>,\n",
       " <matplotlib.axis.XTick at 0x7f36e6730550>,\n",
       " <matplotlib.axis.XTick at 0x7f36e65c9d90>,\n",
       " <matplotlib.axis.XTick at 0x7f36e658fd90>]"
      ]
     },
     "execution_count": 51,
     "metadata": {},
     "output_type": "execute_result"
    },
    {
     "data": {
      "image/png": "[encoded data removed]",
      "text/plain": [
       "<Figure size 257.086x158.888 with 1 Axes>"
      ]
     },
     "metadata": {
      "needs_background": "light"
     },
     "output_type": "display_data"
    }
   ],
   "source": [
    "fig, ax = plt.subplots(figsize=(fig_height*fig_aspect,fig_height))\n",
    "k = 0 # k = 0 or 1 0r 2\n",
    "weights = [0.25, 0.5, 0.25]\n",
    "out_f = np.convolve(bin_numbers[k],np.array(weights)[::-1],'same')\n",
    "out_o = np.convolve(original_bin_numbers[k],np.array(weights)[::-1],'same')\n",
    "s = len(out_f)\n",
    "xnew_bar = np.arange(begin, end, delta)\n",
    "xnew_bar = 0.5 * (xnew_bar[:-1] + xnew_bar[1:])\n",
    "for i in range(len(out_f)):\n",
    "    a = np.abs(out_f[i]) # counterfactual\n",
    "    b = np.abs(out_o[i]) # original\n",
    "    if a > b:\n",
    "        ax.bar(xnew_bar[i], a, label='cubic', width = delta, color = 'yellowgreen', edgecolor='green')\n",
    "        ax.bar(xnew_bar[i], b, label='cubic', width = delta, color = 'white', edgecolor='grey')\n",
    "    else:\n",
    "        ax.bar(xnew_bar[i], b, label='cubic', width = delta, color = 'salmon', edgecolor='red')\n",
    "        ax.bar(xnew_bar[i], a, label='cubic', width = delta, color = 'white', edgecolor='grey')\n",
    "        \n",
    "    \n",
    "# ax.bar(xnew_bar, np.abs(f_cubic[2](xnew_bar)), label='cubic', width = (end - begin) / 17, color = 'yellowgreen')\n",
    "# ax.bar(xnew_bar, np.abs(o_cubic[2](xnew_bar)), label='cubic', width = (end - begin) / 17, color = 'red')\n",
    "ax.set_xlabel('time')\n",
    "ax.set_ylabel('Average Number \\n of Events')\n",
    "ax.set_yticks(np.arange(0,6,1))\n",
    "ax.set_xticks(np.arange(begin,end,0.2))\n",
    "# plt.savefig('{}/groups1_{}_lmax_{}_delta_{}.pdf'.format(path, k + 1, lambda_max, delta), format = 'pdf', dpi = 900)"
   ]
  }
 ],
 "metadata": {
  "kernelspec": {
   "display_name": "Python 3 (ipykernel)",
   "language": "python",
   "name": "python3"
  },
  "language_info": {
   "codemirror_mode": {
    "name": "ipython",
    "version": 3
   },
   "file_extension": ".py",
   "mimetype": "text/x-python",
   "name": "python",
   "nbconvert_exporter": "python",
   "pygments_lexer": "ipython3",
   "version": "3.8.0"
  }
 },
 "nbformat": 4,
 "nbformat_minor": 5
}
