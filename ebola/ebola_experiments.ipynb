{
 "cells": [
  {
   "cell_type": "markdown",
   "metadata": {},
   "source": [
    "# Network generation (and SIR Simulation)"
   ]
  },
  {
   "cell_type": "code",
   "execution_count": 1,
   "metadata": {},
   "outputs": [],
   "source": [
    "import sys\n",
    "if '../../' not in sys.path:\n",
    "    sys.path.append('../../')\n",
    "import copy\n",
    "import numpy as np\n",
    "import networkx as nx\n",
    "import matplotlib.pyplot as plt \n",
    "from graph_generation import make_ebola_network\n",
    "from dynamics import SimulationSIR, sample_seeds"
   ]
  },
  {
   "cell_type": "markdown",
   "metadata": {},
   "source": [
    "Predefined network settings"
   ]
  },
  {
   "cell_type": "code",
   "execution_count": 5,
   "metadata": {},
   "outputs": [],
   "source": [
    "n_nodes = 8000  # Desired number of nodes (we only keep the giant component, so actual number of nodes may be smaller)\n",
    "p_in = 0.01  # Intra-district edge probability\n",
    "p_out = {  # Inter-district edge probability\n",
    "           'Guinea': 0.00215,\n",
    "          'Liberia': 0.00300, \n",
    "     'Sierra Leone': 0.00315, \n",
    "    'inter-country': 0.0019\n",
    "}\n",
    "\n",
    "# Generate scaled graph with settings\n",
    "G = make_ebola_network(n_nodes=n_nodes, p_in=p_in, p_out=p_out, seed=None)"
   ]
  },
  {
   "cell_type": "markdown",
   "metadata": {},
   "source": [
    "Run simulation on graph with predefined settings"
   ]
  },
  {
   "cell_type": "code",
   "execution_count": 6,
   "metadata": {},
   "outputs": [
    {
     "name": "stdout",
     "output_type": "stream",
     "text": [
      "Add seed 10822 from district TONKOLILI - inf: 0.0, rec: 4.979392435084009 \n",
      "Add seed 5122 from district GUECKEDOU - inf: 0.0, rec: 13.244372880445013 \n",
      "Add seed 11266 from district WESTERN - inf: 0.0, rec: 7.936978815587459 \n",
      "Add seed 5048 from district GUECKEDOU - inf: 0.0, rec: 19.006043994540654 \n"
     ]
    }
   ],
   "source": [
    "# Sample seeds from the dataset (random set from infections seen before the given date, taking into account possible random recovery)\n",
    "init_event_list = sample_seeds(graph=G, delta=1.0 / 11.4, method='data', max_date='2014-02-01')\n",
    "\n",
    "# Initialize object\n",
    "sir_obj = SimulationSIR(G, # Graph of individuals\n",
    "                        beta=1.0 / 15.3,  # Infection rate (advised by literature)\n",
    "                        delta=1.0 / 11.4,  # Recovery rate (advised by literature)\n",
    "                        gamma=0.0, rho=0.0,  # Treatement values, should remain zero\n",
    "                        verbose=False)\n",
    "\n",
    "# Run the sumulation\n",
    "sir_obj.launch_epidemic(init_event_list=init_event_list, max_time=120)"
   ]
  },
  {
   "cell_type": "code",
   "execution_count": 10,
   "metadata": {},
   "outputs": [
    {
     "name": "stdout",
     "output_type": "stream",
     "text": [
      "55\n",
      "55\n"
     ]
    }
   ],
   "source": [
    "# creates a map between districts and blocks.\n",
    "G_prime = copy.deepcopy(G)\n",
    "blocks = []\n",
    "districts = []\n",
    "block_to_district = {}\n",
    "district_to_block ={}\n",
    "for k, v in enumerate(G_prime.nodes(data=True)):\n",
    "    if v[1]['block'] not in blocks:\n",
    "        blocks.append(v[1]['block'])\n",
    "    if v[1]['district'] not in districts:\n",
    "        districts.append(v[1]['district'])\n",
    "    block_to_district[v[1]['block']] = v[1]['district']\n",
    "    district_to_block[v[1]['district']] = v[1]['block']\n",
    "print(len(blocks))\n",
    "print(len(districts))"
   ]
  },
  {
   "cell_type": "code",
   "execution_count": 11,
   "metadata": {},
   "outputs": [],
   "source": [
    "# Cuts all edges between the district and the rest of the graph.\n",
    "def isolate_district(district_name, G_prime):\n",
    "    block = district_to_block[district_name]\n",
    "    for node in np.array(G_prime.nodes()):\n",
    "        if G_prime.nodes()[node]['block'] == block:\n",
    "            for neighbor in list(G_prime.neighbors(node)):\n",
    "                if G_prime.nodes()[neighbor]['block'] != block:\n",
    "                    G_prime.remove_edge(node, neighbor)\n",
    "\n",
    "# TODO: write a function to isolate nodes in a specific district.\n",
    "\n",
    "# eg:\n",
    "isolate_district('TONKOLILI', G_prime)"
   ]
  },
  {
   "cell_type": "code",
   "execution_count": 12,
   "metadata": {},
   "outputs": [
    {
     "data": {
      "text/plain": [
       "<BarContainer object of 120 artists>"
      ]
     },
     "execution_count": 12,
     "metadata": {},
     "output_type": "execute_result"
    },
    {
     "data": {
      "image/png": "[encoded data removed]",
      "text/plain": [
       "<Figure size 432x288 with 1 Axes>"
      ]
     },
     "metadata": {
      "needs_background": "light"
     },
     "output_type": "display_data"
    }
   ],
   "source": [
    "# Returns whether nodes are infected at some time or not.\n",
    "def nodes_at_time(time, type, sir_obj):\n",
    "    if type == 'ori':\n",
    "        return sir_obj.nodes_at_time('I', time)\n",
    "    elif type == 'cf':\n",
    "        return (sir_obj.cf_rec > time) * (sir_obj.cf_inf < time)\n",
    "    else:\n",
    "        print('Invalid type.')\n",
    "\n",
    "# eg:\n",
    "ori_number_of_cases = [np.count_nonzero(nodes_at_time(i, 'ori', sir_obj)) for i in range(sir_obj.max_time)]\n",
    "plt.bar(range(sir_obj.max_time), ori_number_of_cases)"
   ]
  },
  {
   "cell_type": "code",
   "execution_count": 23,
   "metadata": {},
   "outputs": [
    {
     "name": "stdout",
     "output_type": "stream",
     "text": [
      "\n"
     ]
    }
   ],
   "source": [
    "percentage = 0.95\n",
    "sir_obj.calculate_counterfactual(percentage * sir_obj.beta, G_prime)\n",
    "print()\n",
    "# Ignore the warnings :)"
   ]
  },
  {
   "cell_type": "code",
   "execution_count": 26,
   "metadata": {},
   "outputs": [
    {
     "data": {
      "text/plain": [
       "<matplotlib.legend.Legend at 0x1ab7701d1c8>"
      ]
     },
     "execution_count": 26,
     "metadata": {},
     "output_type": "execute_result"
    },
    {
     "data": {
      "image/png": "[encoded data removed]",
      "text/plain": [
       "<Figure size 432x288 with 1 Axes>"
      ]
     },
     "metadata": {
      "needs_background": "light"
     },
     "output_type": "display_data"
    }
   ],
   "source": [
    "number_of_cases = [np.count_nonzero(nodes_at_time(i,'ori', sir_obj)) for i in range(sir_obj.max_time)]\n",
    "cf_number_of_cases = [np.count_nonzero(nodes_at_time(i, 'cf', sir_obj)) for i in range(sir_obj.max_time)]\n",
    "plt.bar(range(sir_obj.max_time), number_of_cases, label = 'before intervention')\n",
    "plt.bar(range(sir_obj.max_time), cf_number_of_cases, label = 'after intervention', alpha = 0.8)\n",
    "plt.rcParams[\"axes.spines.right\"] = False\n",
    "plt.rcParams[\"axes.spines.top\"] = False\n",
    "plt.xlabel('Day')\n",
    "plt.ylabel('Number of Cases')\n",
    "plt.legend()"
   ]
  },
  {
   "cell_type": "code",
   "execution_count": null,
   "metadata": {},
   "outputs": [],
   "source": [
    "def plot_epidemic(G, sir, t):\n",
    "\n",
    "    sus = np.vectorize(sir.idx_to_node.get)(np.where(sir.nodes_at_time('S', t))[0]).tolist()\n",
    "    rec = np.vectorize(sir.idx_to_node.get)(np.where(sir.nodes_at_time('R', t))[0]).tolist()\n",
    "    \n",
    "    print('Plotting ...')\n",
    "    \n",
    "    pos = nx.spring_layout(G, k=0.1)\n",
    "\n",
    "    plt.figure(figsize=(15, 15))\n",
    "    nx.draw_networkx_edges(G, pos, alpha=1.0) # potentially draw infector pathways bigger\n",
    "\n",
    "    nx.draw_networkx_nodes(G, pos, nodelist=sus,\n",
    "                        node_size=50,\n",
    "                        node_color='white',\n",
    "                        linewidths=0.7,\n",
    "                        edgecolors='black',\n",
    "                        label='healthy')\n",
    "    \n",
    "    nx.draw_networkx_nodes(G, pos, nodelist=rec,\n",
    "                        node_size=50,\n",
    "                        node_color='grey',\n",
    "                        linewidths=0.7,\n",
    "                        edgecolors='black',\n",
    "                        label='removed')\n",
    "    plt.axis('off')\n",
    "    plt.legend(numpoints=1)\n",
    "    # plt.savefig('graph.pdf')\n",
    "\n",
    "\n",
    "plot_epidemic(sir_obj.G, sir_obj, 30)"
   ]
  }
 ],
 "metadata": {
  "interpreter": {
   "hash": "5f89c732eb85bc78217fc56a6c50f77c7ae628e219514d1b3cad167235aa8a40"
  },
  "kernelspec": {
   "display_name": "Python 3.7.4 64-bit",
   "name": "python3"
  },
  "language_info": {
   "codemirror_mode": {
    "name": "ipython",
    "version": 3
   },
   "file_extension": ".py",
   "mimetype": "text/x-python",
   "name": "python",
   "nbconvert_exporter": "python",
   "pygments_lexer": "ipython3",
   "version": "3.7.4"
  }
 },
 "nbformat": 4,
 "nbformat_minor": 4
}
