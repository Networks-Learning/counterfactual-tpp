{
 "cells": [
  {
   "cell_type": "markdown",
   "metadata": {},
   "source": [
    "# Counterfactuals in SIR epidemic (Ebola)"
   ]
  },
  {
   "cell_type": "markdown",
   "metadata": {},
   "source": [
    "Dependencies"
   ]
  },
  {
   "cell_type": "code",
   "execution_count": 1,
   "metadata": {},
   "outputs": [],
   "source": [
    "import sys\n",
    "if '../../' not in sys.path:\n",
    "    sys.path.append('../../')\n",
    "import copy\n",
    "import numpy as np\n",
    "import pandas as pd\n",
    "import networkx as nx\n",
    "import matplotlib.pyplot as plt \n",
    "import seaborn as sns\n",
    "import plotutils\n",
    "from graph_generation import make_ebola_network\n",
    "from dynamics import SimulationSIR, sample_seeds\n",
    "from tqdm import tqdm\n",
    "from multiprocessing import cpu_count, Pool\n",
    "plt.style.use(['science','no-latex'])\n",
    "plt.rcParams[\"axes.spines.right\"] = False\n",
    "plt.rcParams[\"axes.spines.top\"] = False\n",
    "plt.rcParams[\"xtick.top\"] = False\n",
    "plt.rcParams[\"ytick.right\"] = False"
   ]
  },
  {
   "cell_type": "markdown",
   "metadata": {},
   "source": [
    "## Predefined Network settings"
   ]
  },
  {
   "cell_type": "markdown",
   "metadata": {},
   "source": [
    "Run the following commented cells (codes) in case you want to generate and sample a new outbreak, otherwise ignore them and proceed to load our pre-sampled data and replicate the paper results."
   ]
  },
  {
   "cell_type": "code",
   "execution_count": 2,
   "metadata": {},
   "outputs": [],
   "source": [
    "# n_nodes = 8000  # Desired number of nodes (we only keep the giant component, so actual number of nodes may be smaller)\n",
    "# p_in = 0.01  # Intra-district edge probability\n",
    "# p_out = {  # Inter-district edge probability\n",
    "#            'Guinea': 0.00215,\n",
    "#           'Liberia': 0.00300, \n",
    "#      'Sierra Leone': 0.00315, \n",
    "#     'inter-country': 0.0019\n",
    "# }\n",
    "\n",
    "# # Generate scaled graph with settings\n",
    "# G = make_ebola_network(n_nodes=n_nodes, p_in=p_in, p_out=p_out, seed=None)"
   ]
  },
  {
   "cell_type": "markdown",
   "metadata": {},
   "source": [
    "Run simulation on graph with predefined settings"
   ]
  },
  {
   "cell_type": "code",
   "execution_count": 3,
   "metadata": {},
   "outputs": [],
   "source": [
    "# Sample seeds from the dataset (random set from infections seen before the given date, taking into account possible random recovery)\n",
    "# init_event_list = sample_seeds(graph=G, delta=1.0 / 11.4, method='data', max_date='2014-01-01')"
   ]
  },
  {
   "cell_type": "code",
   "execution_count": 4,
   "metadata": {},
   "outputs": [],
   "source": [
    "# alls = []\n",
    "# for _ in range(100):\n",
    "#     init_event_list = sample_seeds(graph=G, delta=1.0 / 11.4, method='data', max_date='2014-01-01', verbose=False)\n",
    "#     distric = {}\n",
    "#     for i in range(0, len(init_event_list), 2):\n",
    "#         j =init_event_list[i] \n",
    "#         if G.nodes(data = True)[j[0][0]]['district'].title() not in distric.keys():\n",
    "#             distric[G.nodes(data = True)[j[0][0]]['district'].title()] = 1\n",
    "#         else:\n",
    "#             distric[G.nodes(data = True)[j[0][0]]['district'].title()] += 1\n",
    "#     alls.append(distric)\n",
    "#     alls.append('\\n')\n",
    "\n",
    "# import json\n",
    "# with open('seeds.json', 'w') as fout:\n",
    "#     json.dump(alls, fout)\n",
    "#     print(sir_obj.G.nodes(data = True)[j[0][0]]['district'].title(), end = ', ')"
   ]
  },
  {
   "cell_type": "code",
   "execution_count": 5,
   "metadata": {},
   "outputs": [],
   "source": [
    "# with open('seeds.txt', 'w+') as file:\n",
    "#     for dct in alls:\n",
    "#         file.write(str(dct))"
   ]
  },
  {
   "cell_type": "code",
   "execution_count": 8,
   "metadata": {},
   "outputs": [],
   "source": [
    "import pickle\n",
    "# with open('Data_seed/seed1', 'wb') as fp:\n",
    "#     pickle.dump(init_event_list, fp)\n",
    "# later to load\n",
    "with open ('Data_seed/seed1', 'rb') as fp:\n",
    "    init_event_list = pickle.load(fp)"
   ]
  },
  {
   "cell_type": "code",
   "execution_count": 9,
   "metadata": {},
   "outputs": [],
   "source": [
    "# # Initialize object\n",
    "# sir_obj = SimulationSIR(G, # Graph of individuals\n",
    "#                         beta=1.0 / 15.3,  # Infection rate (advised by literature)\n",
    "#                         delta=1.0 / 11.4,  # Recovery rate (advised by literature)\n",
    "#                         gamma=0.0, rho=0.0,  # Treatement values, should remain zero\n",
    "#                         verbose=False)\n",
    "\n",
    "# # Run the sumulation\n",
    "# sir_obj.launch_epidemic(init_event_list=init_event_list, max_time=120)"
   ]
  },
  {
   "cell_type": "code",
   "execution_count": 10,
   "metadata": {},
   "outputs": [],
   "source": [
    "# def save_object(obj, filename):\n",
    "#     with open(filename, 'wb') as outp:  # Overwrites any existing file.\n",
    "#         pickle.dump(obj, outp, pickle.HIGHEST_PROTOCOL)  \n",
    "# save_object(sir_obj, 'Data_seed/sir_obj1')\n",
    "\n",
    "with open ('Data_seed/sir_obj1', 'rb') as fp:\n",
    "    sir_obj = pickle.load(fp)"
   ]
  },
  {
   "cell_type": "code",
   "execution_count": 9,
   "metadata": {},
   "outputs": [
    {
     "name": "stdout",
     "output_type": "stream",
     "text": [
      "Western, Pujehun, Tonkolili, Western, Gueckedou, Gueckedou, "
     ]
    }
   ],
   "source": [
    "for i in range(0, len(init_event_list), 2):\n",
    "    j =init_event_list[i]\n",
    "    print(sir_obj.G.nodes(data = True)[j[0][0]]['district'].title(), end = ', ')"
   ]
  },
  {
   "cell_type": "code",
   "execution_count": 11,
   "metadata": {},
   "outputs": [
    {
     "name": "stdout",
     "output_type": "stream",
     "text": [
      "number of different blocks (districts) is: 55\n"
     ]
    }
   ],
   "source": [
    "# creates a map between districts and blocks. (Will be needed in isolation and anslysis)\n",
    "blocks = []\n",
    "districts = []\n",
    "block_to_district = {}\n",
    "district_to_block ={}\n",
    "for k, v in enumerate(sir_obj.G.nodes(data=True)):\n",
    "    if v[1]['block'] not in blocks:\n",
    "        blocks.append(v[1]['block'])\n",
    "    if v[1]['district'] not in districts:\n",
    "        districts.append(v[1]['district'])\n",
    "    block_to_district[v[1]['block']] = v[1]['district']\n",
    "    district_to_block[v[1]['district']] = v[1]['block']\n",
    "print('number of different blocks (districts) is: {}'.format(len(blocks)))"
   ]
  },
  {
   "cell_type": "markdown",
   "metadata": {},
   "source": [
    "## Utility functions"
   ]
  },
  {
   "cell_type": "code",
   "execution_count": 12,
   "metadata": {},
   "outputs": [],
   "source": [
    "# Returns whether nodes are infected at some time or not.\n",
    "def nodes_at_time(time, type, sir_obj):\n",
    "    if type == 'ori':\n",
    "        return sir_obj.nodes_at_time('I', time)\n",
    "    elif type == 'cf':\n",
    "        return (sir_obj.cf_rec > time) * (sir_obj.cf_inf < time)\n",
    "    else:\n",
    "        print('Invalid type.')"
   ]
  },
  {
   "cell_type": "markdown",
   "metadata": {},
   "source": [
    "## Intervention 1: Isolation"
   ]
  },
  {
   "cell_type": "code",
   "execution_count": 13,
   "metadata": {},
   "outputs": [],
   "source": [
    "import random\n",
    "\n",
    "def isolate_district(district_name, G):\n",
    "    # Cuts all edges between the district and the rest of the graph.\n",
    "    block = district_to_block[district_name]\n",
    "    for node in np.array(G.nodes()):\n",
    "        if G.nodes()[node]['block'] == block:\n",
    "            for neighbor in list(G.neighbors(node)):\n",
    "                if G.nodes()[neighbor]['block'] != block:\n",
    "                    G.remove_edge(node, neighbor)\n",
    "                    \n",
    "def isolate_interior(district_name, G):\n",
    "    # within one distric, cuts edges with 50% probability\n",
    "    block = district_to_block[district_name]\n",
    "    edges = copy.deepcopy(G.edges)\n",
    "    for edge in edges:\n",
    "        if G.nodes()[edge[0]]['block'] == block and G.nodes()[edge[1]]['block'] == block:\n",
    "            if random.random() < 0.5:\n",
    "                G.remove_edge(edge[0], edge[1])                   "
   ]
  },
  {
   "cell_type": "code",
   "execution_count": 14,
   "metadata": {},
   "outputs": [
    {
     "data": {
      "text/plain": [
       "<BarContainer object of 120 artists>"
      ]
     },
     "execution_count": 14,
     "metadata": {},
     "output_type": "execute_result"
    },
    {
     "data": {
      "image/png": "[encoded data removed]",
      "text/plain": [
       "<Figure size 432x288 with 1 Axes>"
      ]
     },
     "metadata": {
      "needs_background": "light"
     },
     "output_type": "display_data"
    }
   ],
   "source": [
    "ori_number_of_cases = [np.count_nonzero(nodes_at_time(i, 'ori', sir_obj)) for i in range(sir_obj.max_time)]\n",
    "plt.bar(range(sir_obj.max_time), ori_number_of_cases)"
   ]
  },
  {
   "cell_type": "code",
   "execution_count": 15,
   "metadata": {
    "scrolled": false
   },
   "outputs": [
    {
     "name": "stderr",
     "output_type": "stream",
     "text": [
      "/home/knoorbakhsh/code/ebola/gumbel.py:4: RuntimeWarning: divide by zero encountered in log\n",
      "  gumbel = np.random.gumbel() + np.log(alpha)\n",
      "/home/knoorbakhsh/code/ebola/gumbel.py:25: RuntimeWarning: divide by zero encountered in log\n",
      "  return gumbels - np.log(np.array([p_0, p_1]))\n",
      "/home/knoorbakhsh/code/ebola/gumbel.py:25: RuntimeWarning: invalid value encountered in subtract\n",
      "  return gumbels - np.log(np.array([p_0, p_1]))\n",
      "/home/knoorbakhsh/code/ebola/counterfactual_tpp.py:26: RuntimeWarning: divide by zero encountered in log\n",
      "  up = np.argmax(np.log(np.array([pp_0, pp_1])) + post)\n",
      "/home/knoorbakhsh/code/ebola/counterfactual_tpp.py:26: RuntimeWarning: invalid value encountered in add\n",
      "  up = np.argmax(np.log(np.array([pp_0, pp_1])) + post)\n"
     ]
    }
   ],
   "source": [
    "sir_obj.calculate_counterfactual(sir_obj.beta, sir_obj.G)\n",
    "maximum_days = sir_obj.max_time + 20"
   ]
  },
  {
   "cell_type": "code",
   "execution_count": 16,
   "metadata": {},
   "outputs": [
    {
     "name": "stdout",
     "output_type": "stream",
     "text": [
      "[26, 35, 50]\n"
     ]
    }
   ],
   "source": [
    "# find the days that the number of total cases exceeded some threshold\n",
    "number_of_cases = [np.count_nonzero(nodes_at_time(i,'ori', sir_obj)) for i in range(maximum_days)]\n",
    "cases_thresholds = [300, 600, 900]\n",
    "cut_thresholds = []\n",
    "for t in cases_thresholds:\n",
    "    for day, nc in enumerate(number_of_cases):\n",
    "        if nc >= t:\n",
    "            cut_thresholds.append(day)\n",
    "            break\n",
    "print(cut_thresholds)"
   ]
  },
  {
   "cell_type": "code",
   "execution_count": 17,
   "metadata": {},
   "outputs": [
    {
     "name": "stdout",
     "output_type": "stream",
     "text": [
      "['WESTERN', 'WESTERN', 'WESTERN']\n"
     ]
    }
   ],
   "source": [
    "# find the cities in which had the max #cases/population untill that time threshold.\n",
    "population = np.zeros(55)\n",
    "for k, v in enumerate(sir_obj.G.nodes(data=True)):\n",
    "    population[v[1]['block']] += 1\n",
    "cut_districts = []\n",
    "for day in cut_thresholds:\n",
    "    cases = np.zeros(55)\n",
    "    for k, v in enumerate(sir_obj.G.nodes(data=True)):\n",
    "        if sir_obj.inf_occured_at[sir_obj.node_to_idx[v[0]]] <= day:\n",
    "            cases[v[1]['block']] += 1\n",
    "    max_district = block_to_district[np.argmax(cases/population)]\n",
    "    cut_districts.append(max_district)\n",
    "print(cut_districts)"
   ]
  },
  {
   "cell_type": "code",
   "execution_count": 18,
   "metadata": {},
   "outputs": [],
   "source": [
    "def counterfactual(_):\n",
    "    sir_obj.calculate_counterfactual(sir_obj.beta, G_prime, intervention_time = _)\n",
    "    res = np.array([np.count_nonzero(nodes_at_time(i, 'cf', sir_obj)) for i in range(maximum_days)])\n",
    "    return res"
   ]
  },
  {
   "cell_type": "code",
   "execution_count": 19,
   "metadata": {},
   "outputs": [
    {
     "name": "stderr",
     "output_type": "stream",
     "text": [
      "100%|███████████████████████████████████████████████████████████████████████████████████| 20/20 [00:26<00:00,  1.32s/it]\n",
      "100%|███████████████████████████████████████████████████████████████████████████████████| 20/20 [00:24<00:00,  1.23s/it]\n",
      "100%|███████████████████████████████████████████████████████████████████████████████████| 20/20 [00:18<00:00,  1.07it/s]\n"
     ]
    }
   ],
   "source": [
    "number_of_counterfactuals = 20\n",
    "target_dfs = []\n",
    "for i, day in enumerate(cut_thresholds):\n",
    "    G_prime = copy.deepcopy(sir_obj.G)\n",
    "    isolate_district(cut_districts[i], G_prime)\n",
    "    isolate_interior(cut_districts[i], G_prime)\n",
    "    with Pool(48) as pool:\n",
    "        resultt = list(tqdm(pool.imap(counterfactual, [day for i in range(number_of_counterfactuals)]), total = number_of_counterfactuals))\n",
    "    d = []\n",
    "    for i in range(maximum_days):\n",
    "        for j in range(len(resultt)):\n",
    "            d.append([i + 1, resultt[j][i]])\n",
    "\n",
    "    df = pd.DataFrame(d, columns=['days', 'Number of cases'])\n",
    "    target_dfs.append(df)"
   ]
  },
  {
   "cell_type": "code",
   "execution_count": 20,
   "metadata": {},
   "outputs": [
    {
     "data": {
      "text/plain": [
       "<matplotlib.legend.Legend at 0x7f41f9453700>"
      ]
     },
     "execution_count": 20,
     "metadata": {},
     "output_type": "execute_result"
    },
    {
     "data": {
      "image/png": "[encoded data removed]",
      "text/plain": [
       "<Figure size 317.776x158.888 with 1 Axes>"
      ]
     },
     "metadata": {
      "needs_background": "light"
     },
     "output_type": "display_data"
    }
   ],
   "source": [
    "number_of_cases = [np.count_nonzero(nodes_at_time(i,'ori', sir_obj)) for i in range(maximum_days)]\n",
    "width_pt = 397\n",
    "fig_height, fig_aspect = plotutils.get_fig_dim(width_pt, fraction=0.65)\n",
    "fig, ax = plt.subplots(figsize=(fig_height * 2, fig_height))\n",
    "ax.plot(range(maximum_days), number_of_cases, label = 'Observation', linewidth=2.0, color = 'k')\n",
    "sns.lineplot(data=target_dfs[0], x=\"days\", y=\"Number of cases\", label = r'Threshold $= {}$'.format(cases_thresholds[0]), color ='green').set(xlabel= \"$t$ [days]\", ylabel= \"Number of active cases\")\n",
    "sns.lineplot(data=target_dfs[1], x=\"days\", y=\"Number of cases\", label = r'Threshold $= {}$'.format(cases_thresholds[1]), color ='orange').set(xlabel= \"$t$ [days]\", ylabel= \"Number of active cases\")\n",
    "sns.lineplot(data=target_dfs[2], x=\"days\", y=\"Number of cases\", label = r'Threshold $= {}$'.format(cases_thresholds[2]), color ='red').set(xlabel= \"$t$ [days]\", ylabel= \"Number of active cases\")\n",
    "# sns.lineplot(data=target_dfs[3], x=\"days\", y=\"Number of cases\", label = r'Active cases $> {}$'.format(cases_thresholds[3]), color ='red').set(xlabel= \"t [days]\", ylabel= \"Number of Active cases\")\n",
    "plt.plot([0, cut_thresholds[0]],[cases_thresholds[0], cases_thresholds[0]],'--', color ='green', alpha = 0.5)\n",
    "plt.plot([0, cut_thresholds[1]],[cases_thresholds[1], cases_thresholds[1]],'--', color ='orange', alpha = 0.5)\n",
    "plt.plot([0, cut_thresholds[2]],[cases_thresholds[2], cases_thresholds[2]],'--', color ='red', alpha = 0.5)\n",
    "# plt.plot([0, cut_thresholds[3]],[cases_thresholds[3], cases_thresholds[3]],'--', color ='red', alpha = 0.5)\n",
    "ax.set_yticks(range(0,1500,300))\n",
    "ax.set_xticks(range(0,150,50))\n",
    "ax.legend(loc = 'upper right', fontsize=8)\n",
    "# ax.legend(loc = 'upper right', bbox_to_anchor=(1.5, 1))\n",
    "# fig.savefig('FIG/sir_isolation.pdf', bbox_inches = 'tight')"
   ]
  },
  {
   "cell_type": "markdown",
   "metadata": {},
   "source": [
    "Here, we wish to sparcify the network with some percentage and compare different percentages : 5%, 10%, 15%, 20%, 25%"
   ]
  },
  {
   "cell_type": "code",
   "execution_count": 21,
   "metadata": {},
   "outputs": [],
   "source": [
    "def sparcify(percentage, G):\n",
    "    edges = copy.deepcopy(G.edges)\n",
    "    for edge in edges:\n",
    "        if random.random() < percentage:\n",
    "            G.remove_edge(edge[0], edge[1])              "
   ]
  },
  {
   "cell_type": "code",
   "execution_count": 22,
   "metadata": {
    "scrolled": true
   },
   "outputs": [
    {
     "name": "stderr",
     "output_type": "stream",
     "text": [
      "/home/knoorbakhsh/code/ebola/gumbel.py:4: RuntimeWarning: divide by zero encountered in log\n",
      "  gumbel = np.random.gumbel() + np.log(alpha)\n",
      "/home/knoorbakhsh/code/ebola/gumbel.py:25: RuntimeWarning: divide by zero encountered in log\n",
      "  return gumbels - np.log(np.array([p_0, p_1]))\n",
      "/home/knoorbakhsh/code/ebola/gumbel.py:25: RuntimeWarning: invalid value encountered in subtract\n",
      "  return gumbels - np.log(np.array([p_0, p_1]))\n",
      "/home/knoorbakhsh/code/ebola/counterfactual_tpp.py:26: RuntimeWarning: divide by zero encountered in log\n",
      "  up = np.argmax(np.log(np.array([pp_0, pp_1])) + post)\n",
      "/home/knoorbakhsh/code/ebola/counterfactual_tpp.py:26: RuntimeWarning: invalid value encountered in add\n",
      "  up = np.argmax(np.log(np.array([pp_0, pp_1])) + post)\n"
     ]
    }
   ],
   "source": [
    "dfss = []\n",
    "percentages = [0.05, 0.1, 0.15, 0.2, 0.25]\n",
    "maximum_days = sir_obj.max_time + 20\n",
    "sir_obj.calculate_counterfactual(sir_obj.beta, sir_obj.G)"
   ]
  },
  {
   "cell_type": "code",
   "execution_count": 23,
   "metadata": {},
   "outputs": [],
   "source": [
    "def counterfactual2(_):\n",
    "    # Change the index in cut_thresholds[2] in the following line to obtain different threshold results (it can be 0, 1, 2)\n",
    "    sir_obj.calculate_counterfactual(sir_obj.beta, G_prime, intervention_time = cut_thresholds[2])\n",
    "    res = np.array([np.count_nonzero(nodes_at_time(i, 'cf', sir_obj)) for i in range(maximum_days)])\n",
    "    return res"
   ]
  },
  {
   "cell_type": "code",
   "execution_count": 24,
   "metadata": {},
   "outputs": [
    {
     "name": "stderr",
     "output_type": "stream",
     "text": [
      "100%|███████████████████████████████████████████████████████████████████████████████████| 20/20 [00:17<00:00,  1.17it/s]\n",
      "100%|███████████████████████████████████████████████████████████████████████████████████| 20/20 [00:17<00:00,  1.14it/s]\n",
      "100%|███████████████████████████████████████████████████████████████████████████████████| 20/20 [00:17<00:00,  1.14it/s]\n",
      "100%|███████████████████████████████████████████████████████████████████████████████████| 20/20 [00:17<00:00,  1.15it/s]\n",
      "100%|███████████████████████████████████████████████████████████████████████████████████| 20/20 [00:17<00:00,  1.15it/s]\n",
      "100%|███████████████████████████████████████████████████████████████████████████████████| 20/20 [00:16<00:00,  1.25it/s]\n",
      "100%|███████████████████████████████████████████████████████████████████████████████████| 20/20 [00:16<00:00,  1.23it/s]\n",
      "100%|███████████████████████████████████████████████████████████████████████████████████| 20/20 [00:15<00:00,  1.26it/s]\n",
      "100%|███████████████████████████████████████████████████████████████████████████████████| 20/20 [00:15<00:00,  1.25it/s]\n",
      "100%|███████████████████████████████████████████████████████████████████████████████████| 20/20 [00:16<00:00,  1.23it/s]\n",
      "100%|███████████████████████████████████████████████████████████████████████████████████| 20/20 [00:14<00:00,  1.35it/s]\n",
      "100%|███████████████████████████████████████████████████████████████████████████████████| 20/20 [00:14<00:00,  1.36it/s]\n",
      "100%|███████████████████████████████████████████████████████████████████████████████████| 20/20 [00:14<00:00,  1.37it/s]\n",
      "100%|███████████████████████████████████████████████████████████████████████████████████| 20/20 [00:14<00:00,  1.37it/s]\n",
      "100%|███████████████████████████████████████████████████████████████████████████████████| 20/20 [00:14<00:00,  1.37it/s]\n",
      "100%|███████████████████████████████████████████████████████████████████████████████████| 20/20 [00:13<00:00,  1.48it/s]\n",
      "100%|███████████████████████████████████████████████████████████████████████████████████| 20/20 [00:13<00:00,  1.46it/s]\n",
      "100%|███████████████████████████████████████████████████████████████████████████████████| 20/20 [00:13<00:00,  1.48it/s]\n",
      "100%|███████████████████████████████████████████████████████████████████████████████████| 20/20 [00:13<00:00,  1.51it/s]\n",
      "100%|███████████████████████████████████████████████████████████████████████████████████| 20/20 [00:13<00:00,  1.49it/s]\n",
      "100%|███████████████████████████████████████████████████████████████████████████████████| 20/20 [00:12<00:00,  1.65it/s]\n",
      "100%|███████████████████████████████████████████████████████████████████████████████████| 20/20 [00:12<00:00,  1.59it/s]\n",
      "100%|███████████████████████████████████████████████████████████████████████████████████| 20/20 [00:12<00:00,  1.65it/s]\n",
      "100%|███████████████████████████████████████████████████████████████████████████████████| 20/20 [00:12<00:00,  1.65it/s]\n",
      "100%|███████████████████████████████████████████████████████████████████████████████████| 20/20 [00:12<00:00,  1.63it/s]\n"
     ]
    }
   ],
   "source": [
    "number_of_counterfactuals = 20\n",
    "for per in percentages:\n",
    "    d = []\n",
    "    for k in range(5):\n",
    "        G_prime = copy.deepcopy(sir_obj.G)\n",
    "        sparcify(per, G_prime)\n",
    "        with Pool(48) as pool:\n",
    "            resultt = list(tqdm(pool.imap(counterfactual2, list(range(number_of_counterfactuals))), total = number_of_counterfactuals))\n",
    "        for i in range(maximum_days):\n",
    "            for j in range(len(resultt)):\n",
    "                d.append([i + 1, resultt[j][i]])\n",
    "\n",
    "    df = pd.DataFrame(d, columns=['days', 'Number of cases'])\n",
    "    dfss.append(df)"
   ]
  },
  {
   "cell_type": "code",
   "execution_count": 25,
   "metadata": {},
   "outputs": [
    {
     "data": {
      "text/plain": [
       "Text(0.2, 0.9, 'Threshold $= 900$')"
      ]
     },
     "execution_count": 25,
     "metadata": {},
     "output_type": "execute_result"
    },
    {
     "data": {
      "image/png": "[encoded data removed]",
      "text/plain": [
       "<Figure size 317.776x158.888 with 1 Axes>"
      ]
     },
     "metadata": {
      "needs_background": "light"
     },
     "output_type": "display_data"
    }
   ],
   "source": [
    "number_of_cases = [np.count_nonzero(nodes_at_time(i,'ori', sir_obj)) for i in range(maximum_days)]\n",
    "width_pt = 397\n",
    "fig_height, fig_aspect = plotutils.get_fig_dim(width_pt, fraction=0.65)\n",
    "fig, ax = plt.subplots(figsize=(2 * fig_height, fig_height))\n",
    "import matplotlib.pylab as pl\n",
    "# Greens, Wistia\n",
    "colors = pl.cm.Reds(np.linspace(0,1,10))\n",
    "ax.plot(range(maximum_days), number_of_cases, label = 'Observation', linewidth=2.0, color = 'k')\n",
    "sns.lineplot(data=dfss[0], x=\"days\", y=\"Number of cases\", label = '5% isolation', color = colors[9]).set(xlabel= \"$t$ [days]\", ylabel= \"Number of active cases\")\n",
    "sns.lineplot(data=dfss[1], x=\"days\", y=\"Number of cases\", label = '10% isolation', color = colors[8]).set(xlabel= \"$t$ [days]\", ylabel= \"Number of active cases\")\n",
    "sns.lineplot(data=dfss[2], x=\"days\", y=\"Number of cases\", label = '15% isolation', color = colors[7]).set(xlabel= \"$t$ [days]\", ylabel= \"Number of active cases\")\n",
    "sns.lineplot(data=dfss[3], x=\"days\", y=\"Number of cases\", label = '20% isolation', color = colors[5]).set(xlabel= \"$t$ [days]\", ylabel= \"Number of active cases\")\n",
    "sns.lineplot(data=dfss[4], x=\"days\", y=\"Number of cases\", label = '25% isolation', color = colors[3]).set(xlabel= \"$t$ [days]\", ylabel= \"Number of active cases\")\n",
    "ax.set_yticks(range(0,1500,300))\n",
    "ax.set_xticks(range(0,150, 50))\n",
    "ax.legend(loc = 'upper right', fontsize=8)\n",
    "ax.text(0.2, 0.9,'Threshold $= 900$',\n",
    "     horizontalalignment='center',\n",
    "     verticalalignment='center',\n",
    "     transform = ax.transAxes)\n",
    "# ax.legend(loc = 'upper right', bbox_to_anchor=(1.5, 1))\n",
    "# fig.savefig('FIG/sir_multi_isolation_3.pdf', bbox_inches = 'tight')"
   ]
  },
  {
   "cell_type": "markdown",
   "metadata": {},
   "source": [
    "## Intervention 2: Vaccination"
   ]
  },
  {
   "cell_type": "code",
   "execution_count": 26,
   "metadata": {},
   "outputs": [
    {
     "name": "stdout",
     "output_type": "stream",
     "text": [
      "Current Beta:  0.06535947712418301\n",
      "Vaccinated Beta:  0.006535947712418302\n"
     ]
    }
   ],
   "source": [
    "reduction = 0.1\n",
    "number_of_counterfactuals = 20\n",
    "maximum_days = sir_obj.max_time + 20\n",
    "print('Current Beta: ', sir_obj.beta)\n",
    "print('Vaccinated Beta: ', reduction * sir_obj.beta)"
   ]
  },
  {
   "cell_type": "code",
   "execution_count": 27,
   "metadata": {
    "scrolled": true
   },
   "outputs": [
    {
     "name": "stderr",
     "output_type": "stream",
     "text": [
      "/home/knoorbakhsh/code/ebola/gumbel.py:4: RuntimeWarning: divide by zero encountered in log\n",
      "  gumbel = np.random.gumbel() + np.log(alpha)\n",
      "/home/knoorbakhsh/code/ebola/gumbel.py:25: RuntimeWarning: divide by zero encountered in log\n",
      "  return gumbels - np.log(np.array([p_0, p_1]))\n",
      "/home/knoorbakhsh/code/ebola/gumbel.py:25: RuntimeWarning: invalid value encountered in subtract\n",
      "  return gumbels - np.log(np.array([p_0, p_1]))\n",
      "/home/knoorbakhsh/code/ebola/counterfactual_tpp.py:26: RuntimeWarning: divide by zero encountered in log\n",
      "  up = np.argmax(np.log(np.array([pp_0, pp_1])) + post)\n",
      "/home/knoorbakhsh/code/ebola/counterfactual_tpp.py:26: RuntimeWarning: invalid value encountered in add\n",
      "  up = np.argmax(np.log(np.array([pp_0, pp_1])) + post)\n"
     ]
    }
   ],
   "source": [
    "reduction = 0.1\n",
    "vaccinated = np.random.choice(a=[False, True], size=(sir_obj.n_nodes,), p=[1 - 0.5, 0.5])\n",
    "sir_obj.calculate_counterfactual(reduction * sir_obj.beta, sir_obj.G, vaccine = vaccinated)\n",
    "# Ignore the warnings"
   ]
  },
  {
   "cell_type": "code",
   "execution_count": 28,
   "metadata": {},
   "outputs": [],
   "source": [
    "# return the number of infected people after intervention during the pandemic.\n",
    "def counterfactualr(_):\n",
    "    sir_obj.calculate_counterfactual(_ * sir_obj.beta, sir_obj.G, vaccine = vaccinated)\n",
    "    res = [sir_obj.cf_inf[i] for i in range(sir_obj.n_nodes) if sir_obj.cf_inf[i]!=np.inf]\n",
    "    return len(res)"
   ]
  },
  {
   "cell_type": "code",
   "execution_count": 29,
   "metadata": {
    "scrolled": true
   },
   "outputs": [
    {
     "name": "stderr",
     "output_type": "stream",
     "text": [
      "100%|███████████████████████████████████████████████████████████████████████████████████| 20/20 [00:27<00:00,  1.39s/it]\n",
      "100%|███████████████████████████████████████████████████████████████████████████████████| 20/20 [00:26<00:00,  1.35s/it]\n",
      "100%|███████████████████████████████████████████████████████████████████████████████████| 20/20 [00:27<00:00,  1.35s/it]\n",
      "100%|███████████████████████████████████████████████████████████████████████████████████| 20/20 [00:27<00:00,  1.35s/it]\n",
      "100%|███████████████████████████████████████████████████████████████████████████████████| 20/20 [00:26<00:00,  1.31s/it]\n",
      "100%|███████████████████████████████████████████████████████████████████████████████████| 20/20 [00:21<00:00,  1.07s/it]\n",
      "100%|███████████████████████████████████████████████████████████████████████████████████| 20/20 [00:22<00:00,  1.13s/it]\n",
      "100%|███████████████████████████████████████████████████████████████████████████████████| 20/20 [00:22<00:00,  1.11s/it]\n",
      "100%|███████████████████████████████████████████████████████████████████████████████████| 20/20 [00:22<00:00,  1.11s/it]\n",
      "100%|███████████████████████████████████████████████████████████████████████████████████| 20/20 [00:21<00:00,  1.09s/it]\n",
      "100%|███████████████████████████████████████████████████████████████████████████████████| 20/20 [00:18<00:00,  1.08it/s]\n",
      "100%|███████████████████████████████████████████████████████████████████████████████████| 20/20 [00:16<00:00,  1.22it/s]\n",
      "100%|███████████████████████████████████████████████████████████████████████████████████| 20/20 [00:17<00:00,  1.12it/s]\n",
      "100%|███████████████████████████████████████████████████████████████████████████████████| 20/20 [00:14<00:00,  1.34it/s]\n",
      "100%|███████████████████████████████████████████████████████████████████████████████████| 20/20 [00:16<00:00,  1.21it/s]\n",
      "100%|███████████████████████████████████████████████████████████████████████████████████| 20/20 [00:11<00:00,  1.80it/s]\n",
      "100%|███████████████████████████████████████████████████████████████████████████████████| 20/20 [00:11<00:00,  1.74it/s]\n",
      "100%|███████████████████████████████████████████████████████████████████████████████████| 20/20 [00:09<00:00,  2.18it/s]\n",
      "100%|███████████████████████████████████████████████████████████████████████████████████| 20/20 [00:08<00:00,  2.50it/s]\n",
      "100%|███████████████████████████████████████████████████████████████████████████████████| 20/20 [00:08<00:00,  2.41it/s]\n",
      "100%|███████████████████████████████████████████████████████████████████████████████████| 20/20 [00:05<00:00,  3.84it/s]\n",
      "100%|███████████████████████████████████████████████████████████████████████████████████| 20/20 [00:04<00:00,  4.86it/s]\n",
      "100%|███████████████████████████████████████████████████████████████████████████████████| 20/20 [00:03<00:00,  5.68it/s]\n",
      "100%|███████████████████████████████████████████████████████████████████████████████████| 20/20 [00:05<00:00,  3.66it/s]\n",
      "100%|███████████████████████████████████████████████████████████████████████████████████| 20/20 [00:04<00:00,  4.64it/s]\n",
      "100%|███████████████████████████████████████████████████████████████████████████████████| 20/20 [00:02<00:00,  7.66it/s]\n",
      "100%|███████████████████████████████████████████████████████████████████████████████████| 20/20 [00:02<00:00,  9.82it/s]\n",
      "100%|███████████████████████████████████████████████████████████████████████████████████| 20/20 [00:02<00:00,  8.87it/s]\n",
      "100%|███████████████████████████████████████████████████████████████████████████████████| 20/20 [00:03<00:00,  5.87it/s]\n",
      "100%|███████████████████████████████████████████████████████████████████████████████████| 20/20 [00:02<00:00,  9.56it/s]\n",
      "100%|███████████████████████████████████████████████████████████████████████████████████| 20/20 [00:01<00:00, 17.07it/s]\n",
      "100%|███████████████████████████████████████████████████████████████████████████████████| 20/20 [00:01<00:00, 17.11it/s]\n",
      "100%|███████████████████████████████████████████████████████████████████████████████████| 20/20 [00:01<00:00, 14.77it/s]\n",
      "100%|███████████████████████████████████████████████████████████████████████████████████| 20/20 [00:01<00:00, 15.19it/s]\n",
      "100%|███████████████████████████████████████████████████████████████████████████████████| 20/20 [00:01<00:00, 11.00it/s]\n",
      "100%|███████████████████████████████████████████████████████████████████████████████████| 20/20 [00:00<00:00, 31.47it/s]\n",
      "100%|███████████████████████████████████████████████████████████████████████████████████| 20/20 [00:00<00:00, 22.84it/s]\n",
      "100%|███████████████████████████████████████████████████████████████████████████████████| 20/20 [00:01<00:00, 14.04it/s]\n",
      "100%|███████████████████████████████████████████████████████████████████████████████████| 20/20 [00:00<00:00, 25.88it/s]\n",
      "100%|███████████████████████████████████████████████████████████████████████████████████| 20/20 [00:00<00:00, 24.02it/s]\n",
      "100%|███████████████████████████████████████████████████████████████████████████████████| 20/20 [00:27<00:00,  1.39s/it]\n",
      "100%|███████████████████████████████████████████████████████████████████████████████████| 20/20 [00:27<00:00,  1.37s/it]\n",
      "100%|███████████████████████████████████████████████████████████████████████████████████| 20/20 [00:27<00:00,  1.36s/it]\n",
      "100%|███████████████████████████████████████████████████████████████████████████████████| 20/20 [00:29<00:00,  1.45s/it]\n",
      "100%|███████████████████████████████████████████████████████████████████████████████████| 20/20 [00:28<00:00,  1.44s/it]\n",
      "100%|███████████████████████████████████████████████████████████████████████████████████| 20/20 [00:23<00:00,  1.20s/it]\n",
      "100%|███████████████████████████████████████████████████████████████████████████████████| 20/20 [00:24<00:00,  1.25s/it]\n",
      "100%|███████████████████████████████████████████████████████████████████████████████████| 20/20 [00:24<00:00,  1.23s/it]\n",
      "100%|███████████████████████████████████████████████████████████████████████████████████| 20/20 [00:24<00:00,  1.23s/it]\n",
      "100%|███████████████████████████████████████████████████████████████████████████████████| 20/20 [00:24<00:00,  1.23s/it]\n",
      "100%|███████████████████████████████████████████████████████████████████████████████████| 20/20 [00:17<00:00,  1.13it/s]\n",
      "100%|███████████████████████████████████████████████████████████████████████████████████| 20/20 [00:20<00:00,  1.04s/it]\n",
      "100%|███████████████████████████████████████████████████████████████████████████████████| 20/20 [00:20<00:00,  1.02s/it]\n",
      "100%|███████████████████████████████████████████████████████████████████████████████████| 20/20 [00:18<00:00,  1.05it/s]\n",
      "100%|███████████████████████████████████████████████████████████████████████████████████| 20/20 [00:19<00:00,  1.00it/s]\n",
      "100%|███████████████████████████████████████████████████████████████████████████████████| 20/20 [00:15<00:00,  1.29it/s]\n",
      "100%|███████████████████████████████████████████████████████████████████████████████████| 20/20 [00:13<00:00,  1.46it/s]\n",
      "100%|███████████████████████████████████████████████████████████████████████████████████| 20/20 [00:14<00:00,  1.42it/s]\n",
      "100%|███████████████████████████████████████████████████████████████████████████████████| 20/20 [00:11<00:00,  1.69it/s]\n",
      "100%|███████████████████████████████████████████████████████████████████████████████████| 20/20 [00:12<00:00,  1.59it/s]\n",
      "100%|███████████████████████████████████████████████████████████████████████████████████| 20/20 [00:09<00:00,  2.11it/s]\n",
      "100%|███████████████████████████████████████████████████████████████████████████████████| 20/20 [00:10<00:00,  1.97it/s]\n",
      "100%|███████████████████████████████████████████████████████████████████████████████████| 20/20 [00:09<00:00,  2.19it/s]\n",
      "100%|███████████████████████████████████████████████████████████████████████████████████| 20/20 [00:08<00:00,  2.23it/s]\n",
      "100%|███████████████████████████████████████████████████████████████████████████████████| 20/20 [00:07<00:00,  2.65it/s]\n",
      "100%|███████████████████████████████████████████████████████████████████████████████████| 20/20 [00:06<00:00,  3.18it/s]\n",
      "100%|███████████████████████████████████████████████████████████████████████████████████| 20/20 [00:04<00:00,  4.69it/s]\n"
     ]
    },
    {
     "name": "stderr",
     "output_type": "stream",
     "text": [
      "100%|███████████████████████████████████████████████████████████████████████████████████| 20/20 [00:05<00:00,  3.58it/s]\n",
      "100%|███████████████████████████████████████████████████████████████████████████████████| 20/20 [00:04<00:00,  4.20it/s]\n",
      "100%|███████████████████████████████████████████████████████████████████████████████████| 20/20 [00:05<00:00,  3.74it/s]\n",
      "100%|███████████████████████████████████████████████████████████████████████████████████| 20/20 [00:02<00:00,  8.01it/s]\n",
      "100%|███████████████████████████████████████████████████████████████████████████████████| 20/20 [00:03<00:00,  6.34it/s]\n",
      "100%|███████████████████████████████████████████████████████████████████████████████████| 20/20 [00:03<00:00,  5.54it/s]\n",
      "100%|███████████████████████████████████████████████████████████████████████████████████| 20/20 [00:03<00:00,  6.17it/s]\n",
      "100%|███████████████████████████████████████████████████████████████████████████████████| 20/20 [00:02<00:00,  6.95it/s]\n",
      "100%|███████████████████████████████████████████████████████████████████████████████████| 20/20 [00:02<00:00,  8.61it/s]\n",
      "100%|███████████████████████████████████████████████████████████████████████████████████| 20/20 [00:02<00:00,  9.68it/s]\n",
      "100%|███████████████████████████████████████████████████████████████████████████████████| 20/20 [00:01<00:00, 10.24it/s]\n",
      "100%|███████████████████████████████████████████████████████████████████████████████████| 20/20 [00:01<00:00, 10.66it/s]\n",
      "100%|███████████████████████████████████████████████████████████████████████████████████| 20/20 [00:01<00:00, 13.75it/s]\n",
      "100%|███████████████████████████████████████████████████████████████████████████████████| 20/20 [00:28<00:00,  1.42s/it]\n",
      "100%|███████████████████████████████████████████████████████████████████████████████████| 20/20 [00:28<00:00,  1.40s/it]\n",
      "100%|███████████████████████████████████████████████████████████████████████████████████| 20/20 [00:28<00:00,  1.44s/it]\n",
      "100%|███████████████████████████████████████████████████████████████████████████████████| 20/20 [00:29<00:00,  1.47s/it]\n",
      "100%|███████████████████████████████████████████████████████████████████████████████████| 20/20 [00:28<00:00,  1.42s/it]\n",
      "100%|███████████████████████████████████████████████████████████████████████████████████| 20/20 [00:27<00:00,  1.36s/it]\n",
      "100%|███████████████████████████████████████████████████████████████████████████████████| 20/20 [00:26<00:00,  1.31s/it]\n",
      "100%|███████████████████████████████████████████████████████████████████████████████████| 20/20 [00:26<00:00,  1.34s/it]\n",
      "100%|███████████████████████████████████████████████████████████████████████████████████| 20/20 [00:26<00:00,  1.31s/it]\n",
      "100%|███████████████████████████████████████████████████████████████████████████████████| 20/20 [00:26<00:00,  1.32s/it]\n",
      "100%|███████████████████████████████████████████████████████████████████████████████████| 20/20 [00:23<00:00,  1.18s/it]\n",
      "100%|███████████████████████████████████████████████████████████████████████████████████| 20/20 [00:20<00:00,  1.04s/it]\n",
      "100%|███████████████████████████████████████████████████████████████████████████████████| 20/20 [00:22<00:00,  1.15s/it]\n",
      "100%|███████████████████████████████████████████████████████████████████████████████████| 20/20 [00:23<00:00,  1.17s/it]\n",
      "100%|███████████████████████████████████████████████████████████████████████████████████| 20/20 [00:22<00:00,  1.11s/it]\n",
      "100%|███████████████████████████████████████████████████████████████████████████████████| 20/20 [00:19<00:00,  1.05it/s]\n",
      "100%|███████████████████████████████████████████████████████████████████████████████████| 20/20 [00:17<00:00,  1.15it/s]\n",
      "100%|███████████████████████████████████████████████████████████████████████████████████| 20/20 [00:17<00:00,  1.12it/s]\n",
      "100%|███████████████████████████████████████████████████████████████████████████████████| 20/20 [00:18<00:00,  1.06it/s]\n",
      "100%|███████████████████████████████████████████████████████████████████████████████████| 20/20 [00:18<00:00,  1.09it/s]\n",
      "100%|███████████████████████████████████████████████████████████████████████████████████| 20/20 [00:15<00:00,  1.30it/s]\n",
      "100%|███████████████████████████████████████████████████████████████████████████████████| 20/20 [00:13<00:00,  1.50it/s]\n",
      "100%|███████████████████████████████████████████████████████████████████████████████████| 20/20 [00:14<00:00,  1.39it/s]\n",
      "100%|███████████████████████████████████████████████████████████████████████████████████| 20/20 [00:15<00:00,  1.33it/s]\n",
      "100%|███████████████████████████████████████████████████████████████████████████████████| 20/20 [00:13<00:00,  1.49it/s]\n",
      "100%|███████████████████████████████████████████████████████████████████████████████████| 20/20 [00:08<00:00,  2.36it/s]\n",
      "100%|███████████████████████████████████████████████████████████████████████████████████| 20/20 [00:08<00:00,  2.33it/s]\n",
      "100%|███████████████████████████████████████████████████████████████████████████████████| 20/20 [00:09<00:00,  2.02it/s]\n",
      "100%|███████████████████████████████████████████████████████████████████████████████████| 20/20 [00:10<00:00,  1.84it/s]\n",
      "100%|███████████████████████████████████████████████████████████████████████████████████| 20/20 [00:09<00:00,  2.21it/s]\n",
      "100%|███████████████████████████████████████████████████████████████████████████████████| 20/20 [00:05<00:00,  3.85it/s]\n",
      "100%|███████████████████████████████████████████████████████████████████████████████████| 20/20 [00:05<00:00,  3.66it/s]\n",
      "100%|███████████████████████████████████████████████████████████████████████████████████| 20/20 [00:06<00:00,  3.20it/s]\n",
      "100%|███████████████████████████████████████████████████████████████████████████████████| 20/20 [00:05<00:00,  3.76it/s]\n",
      "100%|███████████████████████████████████████████████████████████████████████████████████| 20/20 [00:05<00:00,  3.85it/s]\n",
      "100%|███████████████████████████████████████████████████████████████████████████████████| 20/20 [00:03<00:00,  5.57it/s]\n",
      "100%|███████████████████████████████████████████████████████████████████████████████████| 20/20 [00:05<00:00,  3.66it/s]\n",
      "100%|███████████████████████████████████████████████████████████████████████████████████| 20/20 [00:05<00:00,  3.45it/s]\n",
      "100%|███████████████████████████████████████████████████████████████████████████████████| 20/20 [00:03<00:00,  5.28it/s]\n",
      "100%|███████████████████████████████████████████████████████████████████████████████████| 20/20 [00:05<00:00,  3.61it/s]\n",
      "100%|███████████████████████████████████████████████████████████████████████████████████| 20/20 [00:29<00:00,  1.46s/it]\n",
      "100%|███████████████████████████████████████████████████████████████████████████████████| 20/20 [00:29<00:00,  1.47s/it]\n",
      "100%|███████████████████████████████████████████████████████████████████████████████████| 20/20 [00:28<00:00,  1.44s/it]\n",
      "100%|███████████████████████████████████████████████████████████████████████████████████| 20/20 [00:28<00:00,  1.42s/it]\n",
      "100%|███████████████████████████████████████████████████████████████████████████████████| 20/20 [00:29<00:00,  1.46s/it]\n",
      "100%|███████████████████████████████████████████████████████████████████████████████████| 20/20 [00:27<00:00,  1.37s/it]\n",
      "100%|███████████████████████████████████████████████████████████████████████████████████| 20/20 [00:27<00:00,  1.38s/it]\n",
      "100%|███████████████████████████████████████████████████████████████████████████████████| 20/20 [00:27<00:00,  1.36s/it]\n",
      "100%|███████████████████████████████████████████████████████████████████████████████████| 20/20 [00:27<00:00,  1.37s/it]\n",
      "100%|███████████████████████████████████████████████████████████████████████████████████| 20/20 [00:27<00:00,  1.39s/it]\n",
      "100%|███████████████████████████████████████████████████████████████████████████████████| 20/20 [00:24<00:00,  1.22s/it]\n",
      "100%|███████████████████████████████████████████████████████████████████████████████████| 20/20 [00:26<00:00,  1.30s/it]\n",
      "100%|███████████████████████████████████████████████████████████████████████████████████| 20/20 [00:24<00:00,  1.23s/it]\n",
      "100%|███████████████████████████████████████████████████████████████████████████████████| 20/20 [00:23<00:00,  1.20s/it]\n"
     ]
    },
    {
     "name": "stderr",
     "output_type": "stream",
     "text": [
      "100%|███████████████████████████████████████████████████████████████████████████████████| 20/20 [00:26<00:00,  1.30s/it]\n",
      "100%|███████████████████████████████████████████████████████████████████████████████████| 20/20 [00:21<00:00,  1.10s/it]\n",
      "100%|███████████████████████████████████████████████████████████████████████████████████| 20/20 [00:22<00:00,  1.10s/it]\n",
      "100%|███████████████████████████████████████████████████████████████████████████████████| 20/20 [00:23<00:00,  1.16s/it]\n",
      "100%|███████████████████████████████████████████████████████████████████████████████████| 20/20 [00:22<00:00,  1.14s/it]\n",
      "100%|███████████████████████████████████████████████████████████████████████████████████| 20/20 [00:22<00:00,  1.11s/it]\n",
      "100%|███████████████████████████████████████████████████████████████████████████████████| 20/20 [00:17<00:00,  1.12it/s]\n",
      "100%|███████████████████████████████████████████████████████████████████████████████████| 20/20 [00:16<00:00,  1.20it/s]\n",
      "100%|███████████████████████████████████████████████████████████████████████████████████| 20/20 [00:19<00:00,  1.03it/s]\n",
      "100%|███████████████████████████████████████████████████████████████████████████████████| 20/20 [00:17<00:00,  1.17it/s]\n",
      "100%|███████████████████████████████████████████████████████████████████████████████████| 20/20 [00:16<00:00,  1.24it/s]\n",
      "100%|███████████████████████████████████████████████████████████████████████████████████| 20/20 [00:13<00:00,  1.46it/s]\n",
      "100%|███████████████████████████████████████████████████████████████████████████████████| 20/20 [00:12<00:00,  1.62it/s]\n",
      "100%|███████████████████████████████████████████████████████████████████████████████████| 20/20 [00:18<00:00,  1.11it/s]\n",
      "100%|███████████████████████████████████████████████████████████████████████████████████| 20/20 [00:16<00:00,  1.24it/s]\n",
      "100%|███████████████████████████████████████████████████████████████████████████████████| 20/20 [00:13<00:00,  1.54it/s]\n",
      "100%|███████████████████████████████████████████████████████████████████████████████████| 20/20 [00:10<00:00,  1.85it/s]\n",
      "100%|███████████████████████████████████████████████████████████████████████████████████| 20/20 [00:11<00:00,  1.81it/s]\n",
      "100%|███████████████████████████████████████████████████████████████████████████████████| 20/20 [00:10<00:00,  1.99it/s]\n",
      "100%|███████████████████████████████████████████████████████████████████████████████████| 20/20 [00:11<00:00,  1.76it/s]\n",
      "100%|███████████████████████████████████████████████████████████████████████████████████| 20/20 [00:12<00:00,  1.56it/s]\n",
      "100%|███████████████████████████████████████████████████████████████████████████████████| 20/20 [00:06<00:00,  3.13it/s]\n",
      "100%|███████████████████████████████████████████████████████████████████████████████████| 20/20 [00:06<00:00,  3.06it/s]\n",
      "100%|███████████████████████████████████████████████████████████████████████████████████| 20/20 [00:05<00:00,  3.61it/s]\n",
      "100%|███████████████████████████████████████████████████████████████████████████████████| 20/20 [00:07<00:00,  2.69it/s]\n",
      "100%|███████████████████████████████████████████████████████████████████████████████████| 20/20 [00:06<00:00,  3.07it/s]\n",
      "100%|███████████████████████████████████████████████████████████████████████████████████| 20/20 [00:30<00:00,  1.51s/it]\n",
      "100%|███████████████████████████████████████████████████████████████████████████████████| 20/20 [00:30<00:00,  1.51s/it]\n",
      "100%|███████████████████████████████████████████████████████████████████████████████████| 20/20 [00:28<00:00,  1.43s/it]\n",
      "100%|███████████████████████████████████████████████████████████████████████████████████| 20/20 [00:29<00:00,  1.50s/it]\n",
      "100%|███████████████████████████████████████████████████████████████████████████████████| 20/20 [00:29<00:00,  1.48s/it]\n",
      "100%|███████████████████████████████████████████████████████████████████████████████████| 20/20 [00:28<00:00,  1.42s/it]\n",
      "100%|███████████████████████████████████████████████████████████████████████████████████| 20/20 [00:28<00:00,  1.43s/it]\n",
      "100%|███████████████████████████████████████████████████████████████████████████████████| 20/20 [00:28<00:00,  1.41s/it]\n",
      "100%|███████████████████████████████████████████████████████████████████████████████████| 20/20 [00:27<00:00,  1.40s/it]\n",
      "100%|███████████████████████████████████████████████████████████████████████████████████| 20/20 [00:28<00:00,  1.43s/it]\n",
      "100%|███████████████████████████████████████████████████████████████████████████████████| 20/20 [00:26<00:00,  1.35s/it]\n",
      "100%|███████████████████████████████████████████████████████████████████████████████████| 20/20 [00:25<00:00,  1.28s/it]\n",
      "100%|███████████████████████████████████████████████████████████████████████████████████| 20/20 [00:26<00:00,  1.34s/it]\n",
      "100%|███████████████████████████████████████████████████████████████████████████████████| 20/20 [00:27<00:00,  1.37s/it]\n",
      "100%|███████████████████████████████████████████████████████████████████████████████████| 20/20 [00:26<00:00,  1.31s/it]\n",
      "100%|███████████████████████████████████████████████████████████████████████████████████| 20/20 [00:25<00:00,  1.27s/it]\n",
      "100%|███████████████████████████████████████████████████████████████████████████████████| 20/20 [00:24<00:00,  1.22s/it]\n",
      "100%|███████████████████████████████████████████████████████████████████████████████████| 20/20 [00:24<00:00,  1.23s/it]\n",
      "100%|███████████████████████████████████████████████████████████████████████████████████| 20/20 [00:25<00:00,  1.28s/it]\n",
      "100%|███████████████████████████████████████████████████████████████████████████████████| 20/20 [00:25<00:00,  1.29s/it]\n",
      "100%|███████████████████████████████████████████████████████████████████████████████████| 20/20 [00:22<00:00,  1.10s/it]\n",
      "100%|███████████████████████████████████████████████████████████████████████████████████| 20/20 [00:21<00:00,  1.08s/it]\n",
      "100%|███████████████████████████████████████████████████████████████████████████████████| 20/20 [00:21<00:00,  1.08s/it]\n",
      "100%|███████████████████████████████████████████████████████████████████████████████████| 20/20 [00:23<00:00,  1.16s/it]\n",
      "100%|███████████████████████████████████████████████████████████████████████████████████| 20/20 [00:22<00:00,  1.14s/it]\n",
      "100%|███████████████████████████████████████████████████████████████████████████████████| 20/20 [00:20<00:00,  1.04s/it]\n",
      "100%|███████████████████████████████████████████████████████████████████████████████████| 20/20 [00:18<00:00,  1.08it/s]\n",
      "100%|███████████████████████████████████████████████████████████████████████████████████| 20/20 [00:18<00:00,  1.06it/s]\n",
      "100%|███████████████████████████████████████████████████████████████████████████████████| 20/20 [00:18<00:00,  1.10it/s]\n",
      "100%|███████████████████████████████████████████████████████████████████████████████████| 20/20 [00:21<00:00,  1.05s/it]\n",
      "100%|███████████████████████████████████████████████████████████████████████████████████| 20/20 [00:17<00:00,  1.13it/s]\n",
      "100%|███████████████████████████████████████████████████████████████████████████████████| 20/20 [00:17<00:00,  1.17it/s]\n",
      "100%|███████████████████████████████████████████████████████████████████████████████████| 20/20 [00:16<00:00,  1.20it/s]\n",
      "100%|███████████████████████████████████████████████████████████████████████████████████| 20/20 [00:18<00:00,  1.09it/s]\n",
      "100%|███████████████████████████████████████████████████████████████████████████████████| 20/20 [00:19<00:00,  1.03it/s]\n",
      "100%|███████████████████████████████████████████████████████████████████████████████████| 20/20 [00:13<00:00,  1.49it/s]\n",
      "100%|███████████████████████████████████████████████████████████████████████████████████| 20/20 [00:13<00:00,  1.44it/s]\n",
      "100%|███████████████████████████████████████████████████████████████████████████████████| 20/20 [00:10<00:00,  1.97it/s]\n",
      "100%|███████████████████████████████████████████████████████████████████████████████████| 20/20 [00:10<00:00,  1.92it/s]\n",
      "100%|███████████████████████████████████████████████████████████████████████████████████| 20/20 [00:10<00:00,  1.86it/s]\n"
     ]
    }
   ],
   "source": [
    "beta_reductions = [0.1, 0.2, 0.3, 0.4, 0.5]\n",
    "percentage_vaccinated = [0.1, 0.2, 0.3, 0.4, 0.5, 0.6, 0.7, 0.8]\n",
    "number_of_counterfactuals = 20\n",
    "dfs = []\n",
    "all_cases = {}\n",
    "for bet in beta_reductions:\n",
    "    for per in percentage_vaccinated:\n",
    "        cases = 0\n",
    "        for k in range(5):\n",
    "            vaccinated = np.random.choice(a=[False, True], size=(sir_obj.n_nodes,), p=[1 - per, per])\n",
    "            with Pool(48) as pool:\n",
    "                result = list(tqdm(pool.imap(counterfactualr, [bet for i in range(number_of_counterfactuals)]), total = number_of_counterfactuals))\n",
    "            cases += sum(result)\n",
    "        all_cases[(bet, per)] = cases / 250"
   ]
  },
  {
   "cell_type": "code",
   "execution_count": 31,
   "metadata": {},
   "outputs": [
    {
     "name": "stdout",
     "output_type": "stream",
     "text": [
      "4922\n"
     ]
    },
    {
     "data": {
      "text/plain": [
       "(5, 8)"
      ]
     },
     "execution_count": 31,
     "metadata": {},
     "output_type": "execute_result"
    }
   ],
   "source": [
    "obs_infected = [sir_obj.inf_occured_at[i] for i in range(sir_obj.n_nodes) if sir_obj.inf_occured_at[i]!=np.inf]\n",
    "obseved_cases = len(obs_infected)\n",
    "obs_infected = [sir_obj.inf_occured_at[i] for i in range(sir_obj.n_nodes) if sir_obj.inf_occured_at[i]!=np.inf]\n",
    "print(obseved_cases)\n",
    "effectvity = pd.DataFrame(columns=['Beta', 'vacc', 'reduction'])\n",
    "i = 0\n",
    "for k, v in all_cases.items():\n",
    "    effectvity.loc[i] = [100 - k[0] * 100, k[1] * 100, (obseved_cases - v) * 100 / obseved_cases]\n",
    "    i += 1\n",
    "effectvity = effectvity.astype({\"Beta\": int, \"vacc\": int})\n",
    "# effectvity = effectvity.sort_values(['Beta'], ascending=[True])\n",
    "# effectvity = effectvity.pivot(\"Beta\", \"vacc\", \"reduction\")\n",
    "effectvity.sort_values('vacc',axis=0,ascending=True, inplace = True)\n",
    "effectvity.sort_values('Beta',axis=0,ascending=True, inplace = True)\n",
    "effectvity_copy = copy.deepcopy(effectvity)\n",
    "effectvity = effectvity.pivot(\"Beta\", \"vacc\", \"reduction\")\n",
    "arr = np.zeros((5, 8))\n",
    "for i in range(5):\n",
    "    for j in range(8):\n",
    "        arr[4 - i, j] = effectvity.iloc[i, j]\n",
    "effectvity.shape"
   ]
  },
  {
   "cell_type": "code",
   "execution_count": 32,
   "metadata": {},
   "outputs": [
    {
     "data": {
      "text/plain": [
       "[Text(0.5, 10.5, '% vaccinated'),\n",
       " Text(27.186917696247164, 0.5, '% reduction in $\\\\beta$')]"
      ]
     },
     "execution_count": 32,
     "metadata": {},
     "output_type": "execute_result"
    },
    {
     "data": {
      "image/png": "[encoded data removed]",
      "text/plain": [
       "<Figure size 349.495x216 with 2 Axes>"
      ]
     },
     "metadata": {
      "needs_background": "light"
     },
     "output_type": "display_data"
    }
   ],
   "source": [
    "width_pt = 397\n",
    "fig_height, fig_aspect = plotutils.get_fig_dim(width_pt, fraction=0.65)\n",
    "fig, ax = plt.subplots(figsize=(fig_aspect * 3, 3))\n",
    "plt.rcParams[\"xtick.bottom\"] = False\n",
    "plt.rcParams[\"ytick.left\"] = False\n",
    "sns.heatmap(arr, xticklabels = [10, 20, 30, 40, 50, 60, 70, 80], yticklabels = [90, 80, 70, 60, 50], cbar_kws={'label': '% reduction of infections\\n(effectivity)'}, cmap = 'YlGn').set(xlabel = '% vaccinated', ylabel = r'% reduction in $\\beta$')\n",
    "# fig.savefig('FIG/sir_obj_effectivity.pdf', bbox_inches = 'tight')"
   ]
  },
  {
   "cell_type": "code",
   "execution_count": 33,
   "metadata": {},
   "outputs": [],
   "source": [
    "# points = effectvity_copy[['Beta', 'vacc']].to_numpy()\n",
    "# i, j = 0, 1\n",
    "# points.T[[i, j]] = points.T[[j, i]]\n",
    "# values = effectvity_copy[['reduction']].to_numpy()\n",
    "# print(points.shape)\n",
    "# print(values.shape)\n",
    "# np.save('Data_seed/points.npy', points)\n",
    "# np.save('Data_seed/values.npy', values)\n",
    "points = np.load('Data_seed/points.npy')\n",
    "values = np.load('Data_seed/values.npy')"
   ]
  },
  {
   "cell_type": "code",
   "execution_count": 34,
   "metadata": {},
   "outputs": [],
   "source": [
    "import matplotlib.colors as colors\n",
    "from scipy.interpolate import griddata\n",
    "import matplotlib"
   ]
  },
  {
   "cell_type": "code",
   "execution_count": 35,
   "metadata": {},
   "outputs": [
    {
     "data": {
      "image/png": "[encoded data removed]",
      "text/plain": [
       "<Figure size 345.6x216 with 2 Axes>"
      ]
     },
     "metadata": {
      "needs_background": "light"
     },
     "output_type": "display_data"
    }
   ],
   "source": [
    "zmin, zmax_color, zmax_colorbar = 65, 100, 100\n",
    "cmap='RdYlGn'\n",
    "stepsize = 5\n",
    "norm = colors.Normalize(vmin=zmin, vmax=zmax_color)\n",
    "levels = np.arange(zmin, zmax_colorbar + stepsize, stepsize)\n",
    "fig, axs = plt.subplots(1, 1, figsize=(1.6 * 3, 3))\n",
    "x = np.array([10, 20, 30, 40, 50, 60, 70, 80])\n",
    "y = np.array([50, 60, 70, 80, 90])\n",
    "z = arr\n",
    "xbounds = min(x), max(x)\n",
    "ybounds = min(y), max(y)\n",
    "axs.set_xlabel('% vaccinated')\n",
    "xi = np.linspace(xbounds[0], xbounds[1], 100)\n",
    "yi = np.linspace(ybounds[0], ybounds[1], 100)\n",
    "zi = griddata(points, values, (xi[None,:], yi[:,None]), method='linear').reshape((100, 100))\n",
    "axs.contour(xi, yi, zi, linewidths=0.5, colors='k', norm=norm, levels=levels)\n",
    "contourplot = axs.contourf(xi, yi, zi, cmap=cmap, norm=norm, levels=levels)\n",
    "\n",
    "# axis\n",
    "axs.set_xlim(xbounds)\n",
    "axs.set_ylim(ybounds)\n",
    "\n",
    "axs.set_yticks(y)\n",
    "axs.set_xticks(x)\n",
    "axs.set_ylabel(r'% reduction in $\\beta$')\n",
    "fig.tight_layout()\n",
    "fig.subplots_adjust(right=0.8)\n",
    "\n",
    "cbar_ax = fig.add_axes([0.86, 0.16, 0.05, 0.77])\n",
    "cbar = matplotlib.colorbar.ColorbarBase(\n",
    "    cbar_ax, cmap=plt.cm.RdYlGn,\n",
    "    norm=norm,\n",
    "    boundaries=levels,\n",
    "    ticks=levels[::2],\n",
    "    orientation='vertical')\n",
    "cbar.set_label('% reduction of infections\\n(effectivity)', labelpad=5.0)\n",
    "# fig.savefig('FIG/effectivity.pdf', bbox_inches = 'tight')"
   ]
  }
 ],
 "metadata": {
  "interpreter": {
   "hash": "5f89c732eb85bc78217fc56a6c50f77c7ae628e219514d1b3cad167235aa8a40"
  },
  "kernelspec": {
   "display_name": "Python 3 (ipykernel)",
   "language": "python",
   "name": "python3"
  },
  "language_info": {
   "codemirror_mode": {
    "name": "ipython",
    "version": 3
   },
   "file_extension": ".py",
   "mimetype": "text/x-python",
   "name": "python",
   "nbconvert_exporter": "python",
   "pygments_lexer": "ipython3",
   "version": "3.8.0"
  }
 },
 "nbformat": 4,
 "nbformat_minor": 4
}
